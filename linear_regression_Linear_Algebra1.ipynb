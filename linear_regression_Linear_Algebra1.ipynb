{
 "cells": [
  {
   "cell_type": "code",
   "execution_count": 1,
   "metadata": {},
   "outputs": [],
   "source": [
    "import numpy as np\n",
    "import matplotlib.pyplot as plt"
   ]
  },
  {
   "cell_type": "code",
   "execution_count": 2,
   "metadata": {},
   "outputs": [
    {
     "name": "stdout",
     "output_type": "stream",
     "text": [
      "[[0.39923085 0.15056   ]\n",
      " [0.31159519 0.72420393]\n",
      " [0.87358498 0.02380869]\n",
      " [0.32606557 0.76716435]\n",
      " [0.80719612 0.32844333]\n",
      " [0.3297324  0.92922762]\n",
      " [0.5827277  0.80066669]\n",
      " [0.15560317 0.87672823]\n",
      " [0.63830189 0.55126124]\n",
      " [0.92668048 0.74812093]]\n"
     ]
    }
   ],
   "source": [
    "\n",
    "data = np.array([[0.39923085, 0.15056],\n",
    " [0.31159519, 0.72420393],\n",
    " [0.87358498, 0.02380869],\n",
    " [0.32606557, 0.76716435],\n",
    " [0.80719612, 0.32844333],\n",
    " [0.3297324 , 0.92922762],\n",
    " [0.5827277 , 0.80066669],\n",
    " [0.15560317, 0.87672823],\n",
    " [0.63830189, 0.55126124],\n",
    " [0.92668048, 0.74812093]])\n",
    "print(data)\n"
   ]
  },
  {
   "cell_type": "code",
   "execution_count": 6,
   "metadata": {},
   "outputs": [
    {
     "data": {
      "text/plain": [
       "matrix([[1.        , 0.39923085],\n",
       "        [1.        , 0.31159519],\n",
       "        [1.        , 0.87358498],\n",
       "        [1.        , 0.32606557],\n",
       "        [1.        , 0.80719612],\n",
       "        [1.        , 0.3297324 ],\n",
       "        [1.        , 0.5827277 ],\n",
       "        [1.        , 0.15560317],\n",
       "        [1.        , 0.63830189],\n",
       "        [1.        , 0.92668048]])"
      ]
     },
     "execution_count": 6,
     "metadata": {},
     "output_type": "execute_result"
    }
   ],
   "source": [
    "shape = np.shape(data)[0]\n",
    "X = np.matrix([np.ones(shape), data[:,0]]).T\n",
    "X"
   ]
  },
  {
   "cell_type": "code",
   "execution_count": 7,
   "metadata": {},
   "outputs": [
    {
     "name": "stdout",
     "output_type": "stream",
     "text": [
      "Value of X is :\n",
      "[[1.         0.39923085]\n",
      " [1.         0.31159519]\n",
      " [1.         0.87358498]\n",
      " [1.         0.32606557]\n",
      " [1.         0.80719612]\n",
      " [1.         0.3297324 ]\n",
      " [1.         0.5827277 ]\n",
      " [1.         0.15560317]\n",
      " [1.         0.63830189]\n",
      " [1.         0.92668048]]\n",
      "==================\n",
      "Value of y is : \n",
      "[[0.15056   ]\n",
      " [0.72420393]\n",
      " [0.02380869]\n",
      " [0.76716435]\n",
      " [0.32844333]\n",
      " [0.92922762]\n",
      " [0.80066669]\n",
      " [0.87672823]\n",
      " [0.55126124]\n",
      " [0.74812093]]\n"
     ]
    }
   ],
   "source": [
    "# Setup matrices\n",
    "m = np.shape(data)[0]\n",
    "X = np.matrix([np.ones(m), data[:,0]]).T\n",
    "y = np.matrix(data[:,1]).T\n",
    "print('Value of X is :')\n",
    "print(X)\n",
    "print('==================')\n",
    "print('Value of y is : ')\n",
    "print(y)"
   ]
  },
  {
   "cell_type": "code",
   "execution_count": 8,
   "metadata": {},
   "outputs": [
    {
     "name": "stdout",
     "output_type": "stream",
     "text": [
      "Co-efficinets are:  [[ 0.90185734]\n",
      " [-0.58279807]]\n"
     ]
    }
   ],
   "source": [
    "# Solve for projection matrix\n",
    "coeff = np.linalg.inv(X.T.dot(X)).dot(X.T).dot(y)\n",
    "print('Co-efficinets are: ',coeff)"
   ]
  },
  {
   "cell_type": "code",
   "execution_count": 10,
   "metadata": {},
   "outputs": [
    {
     "name": "stdout",
     "output_type": "stream",
     "text": [
      "[0. 1.]\n",
      "[[0.90185734 0.31905926]]\n"
     ]
    },
    {
     "data": {
      "image/png": "[encoded data removed]",
      "text/plain": [
       "<Figure size 432x288 with 1 Axes>"
      ]
     },
     "metadata": {
      "needs_background": "light"
     },
     "output_type": "display_data"
    }
   ],
   "source": [
    "# Find regression line\n",
    "xx = np.linspace(0, 1, 2)\n",
    "print(xx)\n",
    "yy = np.array(coeff[0] + coeff[1] * xx)\n",
    "print(yy)\n",
    "plt.plot(xx, yy.T, color='b')\n",
    "plt.show()"
   ]
  },
  {
   "cell_type": "code",
   "execution_count": 13,
   "metadata": {},
   "outputs": [
    {
     "data": {
      "image/png": "[encoded data removed]",
      "text/plain": [
       "<Figure size 432x288 with 1 Axes>"
      ]
     },
     "metadata": {
      "needs_background": "light"
     },
     "output_type": "display_data"
    }
   ],
   "source": [
    "# Plot data, regression line\n",
    "plt.figure(1)\n",
    "plt.plot(xx, yy.T, color='b')\n",
    "plt.scatter(data[:,0], data[:,1], color='r')\n",
    "plt.show()"
   ]
  },
  {
   "cell_type": "code",
   "execution_count": 14,
   "metadata": {},
   "outputs": [],
   "source": [
    "# Ordinary Least Squares\n",
    "from statsmodels.regression.linear_model import OLS"
   ]
  },
  {
   "cell_type": "code",
   "execution_count": 17,
   "metadata": {},
   "outputs": [],
   "source": [
    "coeffs_lr = OLS(y, X).fit().params"
   ]
  },
  {
   "cell_type": "code",
   "execution_count": 18,
   "metadata": {},
   "outputs": [
    {
     "name": "stdout",
     "output_type": "stream",
     "text": [
      "Co-efficinets are:  [ 0.90185734 -0.58279807]\n"
     ]
    }
   ],
   "source": [
    "print('Co-efficinets are: ', coeffs_lr)"
   ]
  },
  {
   "cell_type": "code",
   "execution_count": 19,
   "metadata": {},
   "outputs": [
    {
     "data": {
      "image/png": "[encoded data removed]",
      "text/plain": [
       "<Figure size 432x288 with 1 Axes>"
      ]
     },
     "metadata": {
      "needs_background": "light"
     },
     "output_type": "display_data"
    }
   ],
   "source": [
    "# Input xx and find regression line\n",
    "xx = np.linspace(0, 1, 2)\n",
    "yy = np.array(coeffs_lr[0] + coeffs_lr[1] * xx)\n",
    "\n",
    "# Plot data, regression line\n",
    "plt.figure(1)\n",
    "plt.plot(xx, yy.T, color='b')\n",
    "plt.scatter(data[:,0], data[:,1], color='r')\n",
    "plt.show()"
   ]
  },
  {
   "cell_type": "code",
   "execution_count": null,
   "metadata": {},
   "outputs": [],
   "source": []
  },
  {
   "cell_type": "code",
   "execution_count": null,
   "metadata": {},
   "outputs": [],
   "source": []
  }
 ],
 "metadata": {
  "kernelspec": {
   "display_name": "Python 3",
   "language": "python",
   "name": "python3"
  },
  "language_info": {
   "codemirror_mode": {
    "name": "ipython",
    "version": 3
   },
   "file_extension": ".py",
   "mimetype": "text/x-python",
   "name": "python",
   "nbconvert_exporter": "python",
   "pygments_lexer": "ipython3",
   "version": "3.6.7"
  }
 },
 "nbformat": 4,
 "nbformat_minor": 2
}
